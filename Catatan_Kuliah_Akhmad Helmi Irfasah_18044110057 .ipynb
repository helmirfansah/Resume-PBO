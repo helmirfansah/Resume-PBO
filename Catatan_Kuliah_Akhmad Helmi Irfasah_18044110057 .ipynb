{
 "cells": [
  {
   "cell_type": "markdown",
   "metadata": {},
   "source": [
    "## Class vs Object\n",
    "\n",
    "Dalam PBO, terdapat 2 hal penting, yaitu kelas dan objek.\n",
    "\n",
    "**Kelas** adalah cetak biru dari objek. Maksudnya, kelas merupakan kerangka yang mendefinisikan variabel-variabel data dan perlakuan-perlakuan umum dari sebuah objek tertentu.\n",
    "\n",
    "**Objek** adalah instan dari kelas. Objek sendiri merupakan  sesuatu yang ada di sekitar kita bisa berupa formula, sistem, benda dan metode. Selain itu, objek juga memiliki identitas yang khas.\n",
    "![](./img/oop.png)\n"
   ]
  },
  {
   "cell_type": "code",
   "execution_count": 6,
   "metadata": {},
   "outputs": [
    {
     "name": "stdout",
     "output_type": "stream",
     "text": [
      "4\n",
      "Luas=  16\n"
     ]
    }
   ],
   "source": [
    "class Kubus:\n",
    "    def __init__(self,s):\n",
    "        self.sisi = s\n",
    "        \n",
    "    def tampilkansisi(self):\n",
    "        print(self.sisi)\n",
    "        \n",
    "    def luas(self):\n",
    "        print(\"Luas= \" ,self.sisi ** 2)\n",
    "\n",
    "Kubus1 = Kubus(4)\n",
    "Kubus1.tampilkansisi()\n",
    "Kubus1.luas()"
   ]
  },
  {
   "cell_type": "markdown",
   "metadata": {},
   "source": [
    "## Inheritance\n",
    "Inheritance adalah dimana suatu entitas/obyek dapat mempunyai entitas/obyek turunan. Dengan konsep inheritance, sebuah class dapat mempunyai class turunan.\n",
    "\n",
    "Seperti halnya manusia pada umumnya terdapat orang tua dan anak pada PBO juga dikenal parent class atau base class dan subclass atau child class.Dimana subclass atau childclass mewarisi semua data yang ada di parent class atau base class atau dapat disimpulkan jika subclass atau childclass adalah perluasan dari parent class atau base class.\n",
    "\n",
    "Contoh"
   ]
  },
  {
   "cell_type": "code",
   "execution_count": 7,
   "metadata": {},
   "outputs": [
    {
     "name": "stdout",
     "output_type": "stream",
     "text": [
      "Name = brian\n",
      "Name = Diana\n",
      "Programming Python\n"
     ]
    }
   ],
   "source": [
    "class User:\n",
    "    def __init__(self, name):\n",
    "        self.name = name\n",
    "    def printName(self):\n",
    "        print (\"Name = \" + self.name)\n",
    "class Programmer(User):\n",
    "    def __init__(self, name):\n",
    "        self.name = name\n",
    "    def doPython(self):\n",
    "        print (\"Programming Python\")\n",
    "brian = User(\"brian\")\n",
    "brian.printName()\n",
    "diana = Programmer(\"Diana\")\n",
    "diana.printName()\n",
    "diana.doPython()\n"
   ]
  },
  {
   "cell_type": "markdown",
   "metadata": {},
   "source": [
    "## Type of Inheritance\n",
    "Inheritance memiliki 4 tipe yaitu: Default, Overriding, Super dan Multiple inheritance\n",
    "![](./img/oop.png)\n",
    "\n",
    "![](./img/type_inheritance.png)\n",
    "\n",
    "### 1. Default\n",
    "**Default** tipe inheritance yang property,property dan method di dalam kelas induk sama persis dengan subclass (kelas anak) yang menggunakan (pass)"
   ]
  },
  {
   "cell_type": "code",
   "execution_count": 9,
   "metadata": {},
   "outputs": [
    {
     "name": "stdout",
     "output_type": "stream",
     "text": [
      "TerryFish\n",
      "The fish is swimming.\n",
      "The fish can swim backwards.\n"
     ]
    }
   ],
   "source": [
    "#Default\n",
    "class Fish:\n",
    "    def __init__(self,first_name,last_name=\"Fish\"):\n",
    "        self.first_name=first_name\n",
    "        self.last_name=last_name\n",
    "    def swim(self):\n",
    "        print(\"The fish is swimming.\")\n",
    "    def swim_backwards(self):\n",
    "        print(\"The fish can swim backwards.\")\n",
    "class Trout(Fish):\n",
    "    pass\n",
    "terry = Trout(\"Terry\")\n",
    "print (terry.first_name +\"\"+ terry.last_name)\n",
    "terry.swim()\n",
    "terry.swim_backwards()"
   ]
  },
  {
   "cell_type": "markdown",
   "metadata": {},
   "source": [
    "### 2. Overriding\n",
    "**Overidding** tipe inheritance yang kelas anak dapat memodifikasi salah satu method/properti dalam kelas induk tetapi kelas anak harus punya nama yg sama, tanda, dan parameter yang ada pada kelas induknya."
   ]
  },
  {
   "cell_type": "code",
   "execution_count": null,
   "metadata": {},
   "outputs": [],
   "source": [
    "import math\n",
    "class lingkaran():\n",
    "    def __init__(self,jari_jari):\n",
    "        self.jari_jari = int(input(\"Masukkan jari-jari = \"))\n",
    "    def jari(self):\n",
    "        print(\"Jari-jari lingkaran = \",self.jari_jari)\n",
    "    def luas_lingkaran(self):\n",
    "        print(\"Luas lingkaran = %.2f\"%(math.pi*(self.jari_jari**2)))\n",
    "    def keliling_lingkaran(self):\n",
    "        print(\"Keliling lingkaran = %.2f\"%(2*math.pi*(self.jari_jari),3))\n",
    "class tabung(lingkaran):\n",
    "    def __init__(self,jari_jari,tinggi):\n",
    "        self.jari_jari= int(input(\"Masukkan jari-jari: \"))\n",
    "        self.tinggi = int(input(\"Masukkan tinggi: \"))\n",
    "    def luaspt(self):\n",
    "        print(\"Luas permukaan tabung = %.2f\"%(2*math.pi*self.jari_jari*(self.jari_jari+self.tinggi)))\n",
    "a = lingkaran (\"Luas dan keliling\")\n",
    "a.jari()\n",
    "a.luas_lingkaran()\n",
    "b=tabung(\"Jari-jari\",\"Tinggi\")\n",
    "b.luaspt()"
   ]
  },
  {
   "cell_type": "markdown",
   "metadata": {},
   "source": [
    "### 3.Super\n",
    "\n",
    "**Super** tipe inheritance dimana kelas anak dapat menggambil method yang sama pada kelas induk dan ini tipe inheritance yang unik dan menggunakan super().init(self) untuk menggambil method pada kelas induk."
   ]
  },
  {
   "cell_type": "code",
   "execution_count": 12,
   "metadata": {},
   "outputs": [
    {
     "name": "stdout",
     "output_type": "stream",
     "text": [
      "Masukkan jari-jari = 10\n",
      "Jari-jari lingkaran =  10\n",
      "Luas lingkaran = 314.16\n",
      "Masukkan tinggi: 1\n",
      "Masukkan jari-jari = 10\n",
      "Luas permukaan tabung = 691.15\n"
     ]
    }
   ],
   "source": [
    "import math\n",
    "class lingkaran():\n",
    "    def __init__(self,jari_jari):\n",
    "        self.jari_jari = int(input(\"Masukkan jari-jari = \"))\n",
    "    def jari(self):\n",
    "        print(\"Jari-jari lingkaran = \",self.jari_jari)\n",
    "    def luas_lingkaran(self):\n",
    "        print(\"Luas lingkaran = %.2f\"%(math.pi*(self.jari_jari**2)))\n",
    "    def keliling_lingkaran(self):\n",
    "        print(\"Keliling lingkaran = %.2f\"%(2*math.pi*(self.jari_jari),3))\n",
    "class tabung(lingkaran):\n",
    "    def __init__(self,jari_jari,tinggi):\n",
    "        self.tinggi = int(input(\"Masukkan tinggi: \"))\n",
    "        super().__init__(\"a\")\n",
    "    def luaspt(self):\n",
    "        print(\"Luas permukaan tabung = %.2f\"%(2*math.pi*self.jari_jari*(self.jari_jari+self.tinggi)))\n",
    "a = lingkaran (\"Luas dan keliling\")\n",
    "a.jari()\n",
    "a.luas_lingkaran()\n",
    "b=tabung(\"Jari-jari\",\"Tinggi\")\n",
    "b.luaspt()"
   ]
  },
  {
   "cell_type": "markdown",
   "metadata": {},
   "source": [
    "### 4.Multiple\n",
    "\n",
    "**Multiple** tipe inheritance yang berasal dari dua kelas diatasnya yang di gabung menjadi satu dan multiple akan membuat kelas baru untuk menampung gabungan dua kelas tersebut."
   ]
  },
  {
   "cell_type": "code",
   "execution_count": 10,
   "metadata": {},
   "outputs": [
    {
     "name": "stdout",
     "output_type": "stream",
     "text": [
      "Coral lives in a community.\n",
      "The anemone is protecting the clownfish.\n"
     ]
    }
   ],
   "source": [
    "class Coral: \n",
    "    def community(self): \n",
    "        print(\"Coral lives in a community.\") \n",
    "\n",
    "class Anemone: \n",
    "    def protect_clownfish(self): \n",
    "        print(\"The anemone is protecting the clownfish.\") \n",
    "\n",
    "class CoralReef(Coral, Anemone): \n",
    "    pass \n",
    "great_barrier = CoralReef() \n",
    "great_barrier.community() \n",
    "great_barrier.protect_clownfish() \n"
   ]
  },
  {
   "cell_type": "markdown",
   "metadata": {},
   "source": [
    "## POLYMORPHISME\n",
    "Polymorphism adalah suatu object dapat memiliki berbagai bentuk, sebagai object dari class sendiri atau object dari superclassnya. Overriding: terjadi ketika deklarasi method subclass dengan nama dan parameter yang sama dengan method dari superclassnya."
   ]
  },
  {
   "cell_type": "markdown",
   "metadata": {},
   "source": [
    "#### 1.Polymorphisme with a Function\n",
    "\n",
    "Polymorphisme ini cara memanggilnya menggunakan fungsi(function) def"
   ]
  },
  {
   "cell_type": "code",
   "execution_count": null,
   "metadata": {},
   "outputs": [],
   "source": [
    "class Bear():\n",
    "    def sound(self):\n",
    "        print(\"Goarrrr\")\n",
    "class Dog():\n",
    "    def sound(self):\n",
    "        print(\"Woof woof!\")\n",
    "def makeSound(animal):\n",
    "    animal.sound()\n",
    "bearObj = Bear()\n",
    "dogObj = Dog()\n",
    "makeSound(bearObj)\n",
    "makeSound(dogObj)"
   ]
  },
  {
   "cell_type": "markdown",
   "metadata": {},
   "source": [
    "#### 2.Polymorphisme with a Method\n",
    "\n",
    "Polymorphisme dengan cara memanggilnya menggunakan method"
   ]
  },
  {
   "cell_type": "code",
   "execution_count": null,
   "metadata": {},
   "outputs": [],
   "source": [
    "class Document:\n",
    "    def __init__(self,name):\n",
    "        self.name=name\n",
    "    def show(self):\n",
    "        raise NotimplementedError(\"Subclass mush implement abstract method\")\n",
    "class Pdf(Document):\n",
    "    def show(self):\n",
    "        return (\"Show pdf contents!\")\n",
    "class Word(Document):\n",
    "    def show(self):\n",
    "        return (\"Show word contents!\")\n",
    "documents = [Pdf(\"Document1\"),Pdf(\"Document2\"),Word(\"Document3\")]\n",
    "\n",
    "for document in documents:\n",
    "    print(document.name+\": \"+document.show())"
   ]
  },
  {
   "attachments": {},
   "cell_type": "markdown",
   "metadata": {},
   "source": [
    "## Operator and Method Overloading\n",
    "**1. Method overloading** Method Overloading adalah suatu kemampuan/fitur dimana kita dapat membuat banyak Method dengan nama yang sama, tetapi memiliki argumen yang berbeda. Hal ini tentu akan sangat memudahkan kita karena ketika kita membuat beberapa method dengan fungsi yang sama, kita tidak perlu membuat method-method tersebut dengan nama-nama yang berbeda. Cukup argumennya saja yang kita bedakan."
   ]
  },
  {
   "cell_type": "code",
   "execution_count": 1,
   "metadata": {},
   "outputs": [
    {
     "name": "stdout",
     "output_type": "stream",
     "text": [
      "Hello \n",
      "Hello Guido\n"
     ]
    }
   ],
   "source": [
    "class Human:\n",
    "    def sayHello(self, name=None):\n",
    "        if name is not None:\n",
    "            print('Hello ' + name)\n",
    "        else:\n",
    "            print('Hello ')\n",
    "# Create instance\n",
    "obj = Human()\n",
    "\n",
    "# Call the method\n",
    "obj.sayHello()\n",
    "\n",
    "# Call the method with a parameter\n",
    "obj.sayHello('Guido')\n"
   ]
  },
  {
   "cell_type": "markdown",
   "metadata": {},
   "source": [
    "**2. Operator Overloading** merupakan penggunaan sebuah operator pada sebuah operasi diluar kebiasaan.\n",
    "Misal operator + biasa dipakai untuk penjumlahan seperti: 2 + 3 = 5\n",
    "Tetapi operator + tidak bisa dipakai untuk operasi berikut: 2 ayam + 3 ayam\n",
    "Supaya operasi semacam : 2 ayam + 3 ayam bisa dilakukan, maka diperlukan overloading terhadap operator.\n",
    "Tujuan overloading terhadap operator adalah untuk memudahkan operasi terhadap data terutama yang berupa obyek"
   ]
  },
  {
   "cell_type": "code",
   "execution_count": 14,
   "metadata": {},
   "outputs": [
    {
     "name": "stdout",
     "output_type": "stream",
     "text": [
      "Point object is at: (3, 1)\n",
      "Point object is at: (3, 1)\n"
     ]
    }
   ],
   "source": [
    "class Point:\n",
    "    def __init__(self, x = 0, y = 0):\n",
    "        self.x = x\n",
    "        self.y = y\n",
    "    #def __str__(self):\n",
    "    #   return \"({0},{1})\".format(self.x,self.y)\n",
    "    def __str__(self):\n",
    "        return \"Point object is at: (\" + str(self.x) + \", \" + str(self.y) + \")\"\n",
    "    def __sub__(self,other):\n",
    "        x = self.x - other.x\n",
    "        y = self.y - other.y\n",
    "        return Point(x,y)\n",
    "    def __add__(self,other):\n",
    "        x = self.x - other.x\n",
    "        y = self.y - other.y\n",
    "        return Point(x,y)\n",
    "p1 = Point(2,3)\n",
    "p2 = Point(-1,2)\n",
    "print(p1 - p2)\n",
    "print(p1 + p2)"
   ]
  },
  {
   "cell_type": "markdown",
   "metadata": {},
   "source": [
    "**2. Magic Method** merupakan method yang diawali dengan double underscore. Method ini digunakan untuk memberikan response pada suatu event atau kejadian-kejadian tertentu.\n",
    "![](./img/magic1.png)\n",
    "![](./img/magic2.png)\n",
    "![](./img/magic3.png)\n"
   ]
  },
  {
   "cell_type": "code",
   "execution_count": 16,
   "metadata": {},
   "outputs": [
    {
     "name": "stdout",
     "output_type": "stream",
     "text": [
      "2/4\n",
      "6/8\n"
     ]
    }
   ],
   "source": [
    "class Fraction:\n",
    "\n",
    "    def __init__(self,top,bottom):\n",
    "        self.num = top\n",
    "        self.den = bottom\n",
    "        #def show(self):\n",
    "        #print(self.num,\"/\",self.den)\n",
    "    def __str__(self):\n",
    "        return str(self.num)+\"/\"+str(self.den)\n",
    "    def __add__(self,otherfraction):\n",
    "        newnum = self.num*otherfraction.den + self.den*otherfraction.num\n",
    "        newden = self.den * otherfraction.den\n",
    "        return Fraction(newnum,newden)\n",
    "f=Fraction(2,4)\n",
    "#Show(f)\n",
    "print(f)\n",
    "f1 = Fraction(1,4)\n",
    "f2 = Fraction(1,2)\n",
    "print(f1+f2)\n"
   ]
  },
  {
   "cell_type": "markdown",
   "metadata": {},
   "source": [
    "## Encapsulation\n",
    "**Encapsulation** adalah proses pemaketan data bersama metode-metodenya dimana hal ini bermanfaat untuk menyembeunyikan rincian-rincian implementasi dari pemakai."
   ]
  },
  {
   "cell_type": "code",
   "execution_count": 19,
   "metadata": {},
   "outputs": [
    {
     "name": "stdout",
     "output_type": "stream",
     "text": [
      "22\n",
      "23\n",
      "23\n"
     ]
    }
   ],
   "source": [
    "class Robot(object):\n",
    "    def __init__(self):\n",
    "        self.__version = 22\n",
    "    def getVersion(self):\n",
    "        print(self.__version)\n",
    "    def setVersion(self, version):\n",
    "        self.__version = version\n",
    "\n",
    "obj = Robot()\n",
    "obj.getVersion()\n",
    "obj.setVersion(23)\n",
    "obj.getVersion()\n",
    "#print(obj.__version)\n",
    "print(obj._Robot__version)\n"
   ]
  },
  {
   "cell_type": "markdown",
   "metadata": {},
   "source": [
    "**Public** (Dapat diakses di dalam ataupun di luar class termasuk Class turunan)\n",
    "\n",
    "**Private** (Hanya dapat diakses di dalam Class itu sendiri)\n",
    "\n",
    "**Protected** (Hanya dapat diakses dalam Class itu sendiri ataupun Class turunan).\n",
    "\n"
   ]
  },
  {
   "cell_type": "code",
   "execution_count": 20,
   "metadata": {},
   "outputs": [
    {
     "name": "stdout",
     "output_type": "stream",
     "text": [
      "This is a public method\n",
      "This is a private method\n",
      "This is another private Method\n"
     ]
    }
   ],
   "source": [
    "class A(object):\n",
    "\t# public method\n",
    "\tdef myPublicMethod(self):\n",
    "\t\treturn \"This is a public method\"\n",
    "\n",
    "\t# private method with single _underscore\n",
    "\tdef _myPrivateMethod(self):\n",
    "\t\treturn \"This is a private method\"\n",
    "\n",
    "\t# private metod with double __undersore\n",
    "\tdef __myAnotherPrivateMethod(self):\n",
    "\t\treturn \"This is another private Method\"\n",
    "\n",
    "\n",
    "obj = A()\n",
    "# We can access the public method which is cool !!!\n",
    "print(obj.myPublicMethod())   #Output : This is a public method\n",
    "\n",
    "# Note that we can also access the private method from outside\n",
    "print(obj._myPrivateMethod()) #Output : This is a private method\n",
    "\n",
    "# However, You can still call the double underscore method\n",
    "# by appending the _class name before method name\n",
    "print(obj._A__myAnotherPrivateMethod()) #Output:This is another private Method\n"
   ]
  },
  {
   "cell_type": "code",
   "execution_count": 21,
   "metadata": {},
   "outputs": [
    {
     "name": "stdout",
     "output_type": "stream",
     "text": [
      "driving. maxspeed 200\n",
      "driving. maxspeed 10\n"
     ]
    }
   ],
   "source": [
    "class Car:\n",
    "\n",
    "    __maxspeed = 0\n",
    "    __name = \"\"\n",
    "\n",
    "    def __init__(self):\n",
    "        self.__maxspeed = 200\n",
    "        self.__name = \"Supercar\"\n",
    "\n",
    "    def drive(self):\n",
    "        print('driving. maxspeed ' + str(self.__maxspeed))\n",
    "\n",
    "    def setMaxSpeed(self,speed):\n",
    "        self.__maxspeed = speed\n",
    "\n",
    "redcar = Car()\n",
    "redcar.drive()\n",
    "redcar.setMaxSpeed(10)\n",
    "redcar.drive()\n"
   ]
  },
  {
   "cell_type": "code",
   "execution_count": null,
   "metadata": {},
   "outputs": [],
   "source": []
  }
 ],
 "metadata": {
  "kernelspec": {
   "display_name": "Python 3",
   "language": "python",
   "name": "python3"
  },
  "language_info": {
   "codemirror_mode": {
    "name": "ipython",
    "version": 3
   },
   "file_extension": ".py",
   "mimetype": "text/x-python",
   "name": "python",
   "nbconvert_exporter": "python",
   "pygments_lexer": "ipython3",
   "version": "3.7.1"
  }
 },
 "nbformat": 4,
 "nbformat_minor": 2
}
