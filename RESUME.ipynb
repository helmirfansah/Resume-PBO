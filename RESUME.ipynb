{
 "cells": [
  {
   "cell_type": "markdown",
   "metadata": {},
   "source": [
    "## Class vs Object\n",
    "\n",
    "Dalam PBO, terdapat 2 hal penting, yaitu kelas dan objek.\n",
    "\n",
    "**Kelas** adalah cetak biru dari objek. Maksudnya, kelas merupakan kerangka yang mendefinisikan variabel-variabel data dan perlakuan-perlakuan umum dari sebuah objek tertentu.\n",
    "\n",
    "**Objek** adalah instan dari kelas. Objek sendiri merupakan  sesuatu yang ada di sekitar kita bisa berupa formula, sistem, benda dan metode. Selain itu, objek juga memiliki identitas yang khas.\n"
   ]
  },
  {
   "cell_type": "code",
   "execution_count": 6,
   "metadata": {},
   "outputs": [
    {
     "name": "stdout",
     "output_type": "stream",
     "text": [
      "4\n",
      "Luas=  16\n"
     ]
    }
   ],
   "source": [
    "class Kubus:\n",
    "    def __init__(self,s):\n",
    "        self.sisi = s\n",
    "        \n",
    "    def tampilkansisi(self):\n",
    "        print(self.sisi)\n",
    "        \n",
    "    def luas(self):\n",
    "        print(\"Luas= \" ,self.sisi ** 2)\n",
    "\n",
    "Kubus1 = Kubus(4)\n",
    "Kubus1.tampilkansisi()\n",
    "Kubus1.luas()"
   ]
  },
  {
   "cell_type": "markdown",
   "metadata": {},
   "source": [
    "## Inheritance\n",
    "Inheritance adalah dimana suatu entitas/obyek dapat mempunyai entitas/obyek turunan. Dengan konsep inheritance, sebuah class dapat mempunyai class turunan.\n",
    "\n",
    "Seperti halnya manusia pada umumnya terdapat orang tua dan anak pada PBO juga dikenal parent class atau base class dan subclass atau child class.Dimana subclass atau childclass mewarisi semua data yang ada di parent class atau base class atau dapat disimpulkan jika subclass atau childclass adalah perluasan dari parent class atau base class.\n",
    "\n",
    "Contoh 1 "
   ]
  },
  {
   "cell_type": "code",
   "execution_count": 7,
   "metadata": {},
   "outputs": [
    {
     "name": "stdout",
     "output_type": "stream",
     "text": [
      "Name = brian\n",
      "Name = Diana\n",
      "Programming Python\n"
     ]
    }
   ],
   "source": [
    "class User:\n",
    "    def __init__(self, name):\n",
    "        self.name = name\n",
    "    def printName(self):\n",
    "        print (\"Name = \" + self.name)\n",
    "class Programmer(User):\n",
    "    def __init__(self, name):\n",
    "        self.name = name\n",
    "    def doPython(self):\n",
    "        print (\"Programming Python\")\n",
    "brian = User(\"brian\")\n",
    "brian.printName()\n",
    "diana = Programmer(\"Diana\")\n",
    "diana.printName()\n",
    "diana.doPython()\n"
   ]
  },
  {
   "cell_type": "markdown",
   "metadata": {},
   "source": [
    "## Type of Inheritance\n",
    "Inheritance memiliki 4 tipe yaitu: Default, Overriding, Super dan Multiple inheritance\n",
    "\n",
    "![](/img/type.png)\n",
    "\n",
    "### 1. Default\n",
    "**Default** tipe inheritance yang property,property dan method di dalam kelas induk sama persis dengan subclass (kelas anak) yang menggunakan (pass)"
   ]
  },
  {
   "cell_type": "code",
   "execution_count": 9,
   "metadata": {},
   "outputs": [
    {
     "name": "stdout",
     "output_type": "stream",
     "text": [
      "TerryFish\n",
      "The fish is swimming.\n",
      "The fish can swim backwards.\n"
     ]
    }
   ],
   "source": [
    "#Default\n",
    "class Fish:\n",
    "    def __init__(self,first_name,last_name=\"Fish\"):\n",
    "        self.first_name=first_name\n",
    "        self.last_name=last_name\n",
    "    def swim(self):\n",
    "        print(\"The fish is swimming.\")\n",
    "    def swim_backwards(self):\n",
    "        print(\"The fish can swim backwards.\")\n",
    "class Trout(Fish):\n",
    "    pass\n",
    "terry = Trout(\"Terry\")\n",
    "print (terry.first_name +\"\"+ terry.last_name)\n",
    "terry.swim()\n",
    "terry.swim_backwards()"
   ]
  },
  {
   "cell_type": "markdown",
   "metadata": {},
   "source": [
    "### 2. Overriding\n",
    "**Overidding** tipe inheritance yang kelas anak dapat memodifikasi salah satu method/properti dalam kelas induk tetapi kelas anak harus punya nama yg sama, tanda, dan parameter yang ada pada kelas induknya."
   ]
  },
  {
   "cell_type": "code",
   "execution_count": null,
   "metadata": {},
   "outputs": [],
   "source": [
    "import math\n",
    "class lingkaran():\n",
    "    def __init__(self,jari_jari):\n",
    "        self.jari_jari = int(input(\"Masukkan jari-jari = \"))\n",
    "    def jari(self):\n",
    "        print(\"Jari-jari lingkaran = \",self.jari_jari)\n",
    "    def luas_lingkaran(self):\n",
    "        print(\"Luas lingkaran = %.2f\"%(math.pi*(self.jari_jari**2)))\n",
    "    def keliling_lingkaran(self):\n",
    "        print(\"Keliling lingkaran = %.2f\"%(2*math.pi*(self.jari_jari),3))\n",
    "class tabung(lingkaran):\n",
    "    def __init__(self,jari_jari,tinggi):\n",
    "        self.jari_jari= int(input(\"Masukkan jari-jari: \"))\n",
    "        self.tinggi = int(input(\"Masukkan tinggi: \"))\n",
    "    def luaspt(self):\n",
    "        print(\"Luas permukaan tabung = %.2f\"%(2*math.pi*self.jari_jari*(self.jari_jari+self.tinggi)))\n",
    "a = lingkaran (\"Luas dan keliling\")\n",
    "a.jari()\n",
    "a.luas_lingkaran()\n",
    "b=tabung(\"Jari-jari\",\"Tinggi\")\n",
    "b.luaspt()"
   ]
  },
  {
   "cell_type": "markdown",
   "metadata": {},
   "source": [
    "### 3.Super\n",
    "\n",
    "**Super** tipe inheritance dimana kelas anak dapat menggambil method yang sama pada kelas induk dan ini tipe inheritance yang unik dan menggunakan super().init(self) untuk menggambil method pada kelas induk."
   ]
  },
  {
   "cell_type": "code",
   "execution_count": 12,
   "metadata": {},
   "outputs": [
    {
     "name": "stdout",
     "output_type": "stream",
     "text": [
      "Masukkan jari-jari = 10\n",
      "Jari-jari lingkaran =  10\n",
      "Luas lingkaran = 314.16\n",
      "Masukkan tinggi: 1\n",
      "Masukkan jari-jari = 10\n",
      "Luas permukaan tabung = 691.15\n"
     ]
    }
   ],
   "source": [
    "import math\n",
    "class lingkaran():\n",
    "    def __init__(self,jari_jari):\n",
    "        self.jari_jari = int(input(\"Masukkan jari-jari = \"))\n",
    "    def jari(self):\n",
    "        print(\"Jari-jari lingkaran = \",self.jari_jari)\n",
    "    def luas_lingkaran(self):\n",
    "        print(\"Luas lingkaran = %.2f\"%(math.pi*(self.jari_jari**2)))\n",
    "    def keliling_lingkaran(self):\n",
    "        print(\"Keliling lingkaran = %.2f\"%(2*math.pi*(self.jari_jari),3))\n",
    "class tabung(lingkaran):\n",
    "    def __init__(self,jari_jari,tinggi):\n",
    "        self.tinggi = int(input(\"Masukkan tinggi: \"))\n",
    "        super().__init__(\"a\")\n",
    "    def luaspt(self):\n",
    "        print(\"Luas permukaan tabung = %.2f\"%(2*math.pi*self.jari_jari*(self.jari_jari+self.tinggi)))\n",
    "a = lingkaran (\"Luas dan keliling\")\n",
    "a.jari()\n",
    "a.luas_lingkaran()\n",
    "b=tabung(\"Jari-jari\",\"Tinggi\")\n",
    "b.luaspt()"
   ]
  },
  {
   "cell_type": "markdown",
   "metadata": {},
   "source": [
    "### 4.Multiple\n",
    "\n",
    "**Multiple** tipe inheritance yang berasal dari dua kelas diatasnya yang di gabung menjadi satu dan multiple akan membuat kelas baru untuk menampung gabungan dua kelas tersebut."
   ]
  },
  {
   "cell_type": "code",
   "execution_count": 10,
   "metadata": {},
   "outputs": [
    {
     "name": "stdout",
     "output_type": "stream",
     "text": [
      "Coral lives in a community.\n",
      "The anemone is protecting the clownfish.\n"
     ]
    }
   ],
   "source": [
    "class Coral: \n",
    "    def community(self): \n",
    "        print(\"Coral lives in a community.\") \n",
    "\n",
    "class Anemone: \n",
    "    def protect_clownfish(self): \n",
    "        print(\"The anemone is protecting the clownfish.\") \n",
    "\n",
    "class CoralReef(Coral, Anemone): \n",
    "    pass \n",
    "great_barrier = CoralReef() \n",
    "great_barrier.community() \n",
    "great_barrier.protect_clownfish() \n"
   ]
  },
  {
   "cell_type": "markdown",
   "metadata": {},
   "source": [
    "## POLYMORPHISME\n",
    "Polymorphism adalah suatu object dapat memiliki berbagai bentuk, sebagai object dari class sendiri atau object dari superclassnya. Overriding: terjadi ketika deklarasi method subclass dengan nama dan parameter yang sama dengan method dari superclassnya."
   ]
  },
  {
   "cell_type": "markdown",
   "metadata": {},
   "source": [
    "#### 1.Polymorphisme with a Function\n",
    "\n",
    "Polymorphisme ini cara memanggilnya menggunakan fungsi(function) def"
   ]
  },
  {
   "cell_type": "code",
   "execution_count": null,
   "metadata": {},
   "outputs": [],
   "source": [
    "class Bear():\n",
    "    def sound(self):\n",
    "        print(\"Goarrrr\")\n",
    "class Dog():\n",
    "    def sound(self):\n",
    "        print(\"Woof woof!\")\n",
    "def makeSound(animal):\n",
    "    animal.sound()\n",
    "bearObj = Bear()\n",
    "dogObj = Dog()\n",
    "makeSound(bearObj)\n",
    "makeSound(dogObj)"
   ]
  },
  {
   "cell_type": "markdown",
   "metadata": {},
   "source": [
    "#### 2.Polymorphisme with a Method\n",
    "\n",
    "Polymorphisme dengan cara memanggilnya menggunakan method"
   ]
  },
  {
   "cell_type": "code",
   "execution_count": null,
   "metadata": {},
   "outputs": [],
   "source": [
    "class Document:\n",
    "    def __init__(self,name):\n",
    "        self.name=name\n",
    "    def show(self):\n",
    "        raise NotimplementedError(\"Subclass mush implement abstract method\")\n",
    "class Pdf(Document):\n",
    "    def show(self):\n",
    "        return (\"Show pdf contents!\")\n",
    "class Word(Document):\n",
    "    def show(self):\n",
    "        return (\"Show word contents!\")\n",
    "documents = [Pdf(\"Document1\"),Pdf(\"Document2\"),Word(\"Document3\")]\n",
    "\n",
    "for document in documents:\n",
    "    print(document.name+\": \"+document.show())"
   ]
  }
 ],
 "metadata": {
  "kernelspec": {
   "display_name": "Python 3",
   "language": "python",
   "name": "python3"
  },
  "language_info": {
   "codemirror_mode": {
    "name": "ipython",
    "version": 3
   },
   "file_extension": ".py",
   "mimetype": "text/x-python",
   "name": "python",
   "nbconvert_exporter": "python",
   "pygments_lexer": "ipython3",
   "version": "3.7.1"
  }
 },
 "nbformat": 4,
 "nbformat_minor": 2
}
